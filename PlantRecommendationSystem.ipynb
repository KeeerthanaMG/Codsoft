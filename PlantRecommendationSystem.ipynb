{
  "nbformat": 4,
  "nbformat_minor": 0,
  "metadata": {
    "colab": {
      "provenance": []
    },
    "kernelspec": {
      "name": "python3",
      "display_name": "Python 3"
    },
    "language_info": {
      "name": "python"
    }
  },
  "cells": [
    {
      "cell_type": "code",
      "execution_count": 4,
      "metadata": {
        "colab": {
          "base_uri": "https://localhost:8080/"
        },
        "id": "bnCXAIf4FpFS",
        "outputId": "ee64405a-ebbb-4b9c-ce38-4cef3ac3f8c6"
      },
      "outputs": [
        {
          "output_type": "stream",
          "name": "stdout",
          "text": [
            "Enter your choice preference (Shrubs, Climbers, Herbs, Creepers or Trees): Trees\n",
            "Recommended Plants for Trees lovers:\n",
            "Mango\n",
            "Neem\n",
            "Banyan\n",
            "Banana\n",
            "Guava\n",
            "Coconut\n",
            "Drumstick Tree\n"
          ]
        }
      ],
      "source": [
        "class Plant:\n",
        "    def __init__(self, names, choice):\n",
        "        self.names = names\n",
        "        self.choice = choice\n",
        "\n",
        "class PlantRecommendationSystem:\n",
        "    def __init__(self):\n",
        "        self.plants = []\n",
        "\n",
        "    def add_plant(self, names, choice):\n",
        "        plant = Plant(names, choice)\n",
        "        self.plants.append(plant)\n",
        "\n",
        "    def recommend_plants(self, user_choice_preference):\n",
        "        recommended_plants = []\n",
        "\n",
        "        for plant in self.plants:\n",
        "            if plant.choice.lower() == user_choice_preference.lower():\n",
        "                recommended_plants.append(plant)\n",
        "\n",
        "        return recommended_plants\n",
        "\n",
        "if __name__ == \"__main__\":\n",
        "    recommendation_system = PlantRecommendationSystem()\n",
        "\n",
        "    #Shrubs\n",
        "    recommendation_system.add_plant(\"Rose\", \"Shrubs\")\n",
        "    recommendation_system.add_plant(\"Azalea\", \"Shrubs\")\n",
        "    recommendation_system.add_plant(\"Lilac\", \"Shrubs\")\n",
        "    recommendation_system.add_plant(\"Forsythia\", \"Shrubs\")\n",
        "    recommendation_system.add_plant(\"Hydrangea\", \"Shrubs\")\n",
        "    recommendation_system.add_plant(\"Boxwood\", \"Shrubs\")\n",
        "    recommendation_system.add_plant(\"Butterfly Bush\", \"Shrubs\")\n",
        "\n",
        "    # Herbs\n",
        "    recommendation_system.add_plant(\"Basil\", \"Herbs\")\n",
        "    recommendation_system.add_plant(\"Mint\", \"Herbs\")\n",
        "    recommendation_system.add_plant(\"Thyme\", \"Herbs\")\n",
        "    recommendation_system.add_plant(\"Parsley\", \"Herbs\")\n",
        "    recommendation_system.add_plant(\"Chives\", \"Herbs\")\n",
        "    recommendation_system.add_plant(\"Sage\", \"Herbs\")\n",
        "    recommendation_system.add_plant(\"Coriander\", \"Herbs\")\n",
        "\n",
        "    # Creepers\n",
        "    recommendation_system.add_plant(\"Ivy\", \"Creepers\")\n",
        "    recommendation_system.add_plant(\"Vinca\", \"Creepers\")\n",
        "    recommendation_system.add_plant(\"Creeping Jenny\", \"Creepers\")\n",
        "    recommendation_system.add_plant(\"Honeysuckle\", \"Creepers\")\n",
        "    recommendation_system.add_plant(\"Ground Morning Glory\", \"Creepers\")\n",
        "    recommendation_system.add_plant(\"Creeping Charlie\", \"Creepers\")\n",
        "    recommendation_system.add_plant(\"Bougainvillea\", \"Creepers\")\n",
        "\n",
        "    # Climbers\n",
        "    recommendation_system.add_plant(\"Jasmine\", \"Climbers\")\n",
        "    recommendation_system.add_plant(\"Passion flower\", \"Climbers\")\n",
        "    recommendation_system.add_plant(\"Money Plant\", \"Climbers\")\n",
        "    recommendation_system.add_plant(\"Malabar Spinach\", \"Climbers\")\n",
        "    recommendation_system.add_plant(\"Climbing Rose\", \"Climbers\")\n",
        "    recommendation_system.add_plant(\"Morning Glory\", \"Climbers\")\n",
        "    recommendation_system.add_plant(\"Clematis\", \"Climbers\")\n",
        "\n",
        "    #Trees\n",
        "    recommendation_system.add_plant(\"Mango\", \"Trees\")\n",
        "    recommendation_system.add_plant(\"Neem\", \"Trees\")\n",
        "    recommendation_system.add_plant(\"Banyan\", \"Trees\")\n",
        "    recommendation_system.add_plant(\"Banana\", \"Trees\")\n",
        "    recommendation_system.add_plant(\"Guava\", \"Trees\")\n",
        "    recommendation_system.add_plant(\"Coconut\", \"Trees\")\n",
        "    recommendation_system.add_plant(\"Drumstick Tree\", \"Trees\")\n",
        "\n",
        "\n",
        "    user_preference = input(\"Enter your choice preference (Shrubs, Climbers, Herbs, Creepers or Trees): \")\n",
        "\n",
        "    recommended_plants = recommendation_system.recommend_plants(user_preference)\n",
        "\n",
        "    if recommended_plants:\n",
        "        print(f\"Recommended Plants for {user_preference} lovers:\")\n",
        "        for plant in recommended_plants:\n",
        "            print(plant.names)\n",
        "    else:\n",
        "        print(f\"No {user_preference} plants found in the database.\")\n",
        ""
      ]
    }
  ]
}